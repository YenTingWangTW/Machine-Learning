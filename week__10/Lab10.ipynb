{
 "cells": [
  {
   "cell_type": "code",
   "execution_count": 2,
   "metadata": {
    "scrolled": false
   },
   "outputs": [],
   "source": [
    "import tensorflow as tf\n",
    "import numpy as np\n",
    "# xor task\n",
    "xor_data = np.array([[1, 0],\n",
    "                    [0, 1],\n",
    "                    [1, 1],\n",
    "                    [0, 0]])\n",
    "xor_label = np.array([[1], [1], [0], [0]])"
   ]
  },
  {
   "cell_type": "code",
   "execution_count": 11,
   "metadata": {
    "scrolled": true
   },
   "outputs": [
    {
     "name": "stdout",
     "output_type": "stream",
     "text": [
      "Epoch  199999\n",
      "Hypothesis  [[0.9855833 ]\n",
      " [0.9855855 ]\n",
      " [0.02067673]\n",
      " [0.01881513]]\n",
      "W1  [[ 7.465061 -5.467858]\n",
      " [ 7.466965 -5.468103]]\n",
      "Bias1  [-3.3785324  8.186749 ]\n",
      "W2  [[9.212555]\n",
      " [9.379035]]\n",
      "Bias2  [-13.634292]\n",
      "cost  0.017232213\n"
     ]
    }
   ],
   "source": [
    "with tf.Graph().as_default() as g:\n",
    "    x_input = tf.placeholder(tf.float32, [None, 2])\n",
    "    y_label = tf.placeholder(tf.float32, [None, 1])\n",
    "    \n",
    "    W1 = tf.Variable(tf.random_uniform([2,2], -1, 1), name=\"Theta1\")\n",
    "    W2 = tf.Variable(tf.random_uniform([2,1], -1, 1), name=\"Theta2\")\n",
    "    Bias1 = tf.Variable(tf.zeros([2]), name=\"Bias1\")\n",
    "    Bias2 = tf.Variable(tf.zeros([1]), name=\"Bias2\")\n",
    "    L1 = tf.sigmoid(tf.matmul(x_input, W1) + Bias1)\n",
    "    Hypothesis = tf.sigmoid(tf.matmul(L1, W2) + Bias2)\n",
    "    cost = tf.reduce_mean(( (y_label * tf.log(Hypothesis)) + \n",
    "            ((1 - y_label) * tf.log(1.0 - Hypothesis)) ) * -1)\n",
    "    train_step = tf.train.GradientDescentOptimizer(0.01).minimize(cost)\n",
    "    \n",
    "    init = tf.global_variables_initializer()\n",
    "\n",
    "with tf.Session(graph=g) as sess:\n",
    "    \n",
    "    sess.run(init)\n",
    "    \n",
    "    for i in range(200000):\n",
    "            sess.run(train_step, feed_dict={x_input: xor_data, y_label: xor_label})\n",
    "    print('Epoch ', i)\n",
    "    print('Hypothesis ', sess.run(Hypothesis, feed_dict={x_input: xor_data, y_label: xor_label}))\n",
    "    print('W1 ', sess.run(W1))\n",
    "    print('Bias1 ', sess.run(Bias1))\n",
    "    print('W2 ', sess.run(W2))\n",
    "    print('Bias2 ', sess.run(Bias2))\n",
    "    print('cost ', sess.run(cost, feed_dict={x_input: xor_data, y_label: xor_label}))  \n",
    "\n",
    "    "
   ]
  },
  {
   "cell_type": "code",
   "execution_count": null,
   "metadata": {},
   "outputs": [],
   "source": [
    "\"\"\"\n",
    "from the Hypothesis outcome above we can see that it should be predicted as [[1], [1], [0], [0]],\n",
    "its accuracy should be 100%.\n",
    "\"\"\"\n"
   ]
  },
  {
   "cell_type": "code",
   "execution_count": 12,
   "metadata": {},
   "outputs": [
    {
     "name": "stdout",
     "output_type": "stream",
     "text": [
      "WARNING:tensorflow:From <ipython-input-12-e70db4c1b96c>:3: read_data_sets (from tensorflow.contrib.learn.python.learn.datasets.mnist) is deprecated and will be removed in a future version.\n",
      "Instructions for updating:\n",
      "Please use alternatives such as official/mnist/dataset.py from tensorflow/models.\n",
      "WARNING:tensorflow:From /anaconda/envs/tensorflow/lib/python3.6/site-packages/tensorflow/contrib/learn/python/learn/datasets/mnist.py:260: maybe_download (from tensorflow.contrib.learn.python.learn.datasets.base) is deprecated and will be removed in a future version.\n",
      "Instructions for updating:\n",
      "Please write your own downloading logic.\n",
      "WARNING:tensorflow:From /anaconda/envs/tensorflow/lib/python3.6/site-packages/tensorflow/contrib/learn/python/learn/datasets/base.py:252: _internal_retry.<locals>.wrap.<locals>.wrapped_fn (from tensorflow.contrib.learn.python.learn.datasets.base) is deprecated and will be removed in a future version.\n",
      "Instructions for updating:\n",
      "Please use urllib or similar directly.\n",
      "Successfully downloaded train-images-idx3-ubyte.gz 9912422 bytes.\n",
      "WARNING:tensorflow:From /anaconda/envs/tensorflow/lib/python3.6/site-packages/tensorflow/contrib/learn/python/learn/datasets/mnist.py:262: extract_images (from tensorflow.contrib.learn.python.learn.datasets.mnist) is deprecated and will be removed in a future version.\n",
      "Instructions for updating:\n",
      "Please use tf.data to implement this functionality.\n",
      "Extracting data/mnist/train-images-idx3-ubyte.gz\n",
      "Successfully downloaded train-labels-idx1-ubyte.gz 28881 bytes.\n",
      "WARNING:tensorflow:From /anaconda/envs/tensorflow/lib/python3.6/site-packages/tensorflow/contrib/learn/python/learn/datasets/mnist.py:267: extract_labels (from tensorflow.contrib.learn.python.learn.datasets.mnist) is deprecated and will be removed in a future version.\n",
      "Instructions for updating:\n",
      "Please use tf.data to implement this functionality.\n",
      "Extracting data/mnist/train-labels-idx1-ubyte.gz\n",
      "WARNING:tensorflow:From /anaconda/envs/tensorflow/lib/python3.6/site-packages/tensorflow/contrib/learn/python/learn/datasets/mnist.py:110: dense_to_one_hot (from tensorflow.contrib.learn.python.learn.datasets.mnist) is deprecated and will be removed in a future version.\n",
      "Instructions for updating:\n",
      "Please use tf.one_hot on tensors.\n",
      "Successfully downloaded t10k-images-idx3-ubyte.gz 1648877 bytes.\n",
      "Extracting data/mnist/t10k-images-idx3-ubyte.gz\n",
      "Successfully downloaded t10k-labels-idx1-ubyte.gz 4542 bytes.\n",
      "Extracting data/mnist/t10k-labels-idx1-ubyte.gz\n",
      "WARNING:tensorflow:From /anaconda/envs/tensorflow/lib/python3.6/site-packages/tensorflow/contrib/learn/python/learn/datasets/mnist.py:290: DataSet.__init__ (from tensorflow.contrib.learn.python.learn.datasets.mnist) is deprecated and will be removed in a future version.\n",
      "Instructions for updating:\n",
      "Please use alternatives such as official/mnist/dataset.py from tensorflow/models.\n"
     ]
    }
   ],
   "source": [
    "from tensorflow.examples.tutorials.mnist import input_data\n",
    "# load mnist data\n",
    "mnist = input_data.read_data_sets(\"data/mnist\", one_hot=True)"
   ]
  },
  {
   "cell_type": "code",
   "execution_count": 13,
   "metadata": {},
   "outputs": [
    {
     "name": "stdout",
     "output_type": "stream",
     "text": [
      "training data size: 55000\n",
      "validation data size: 5000\n",
      "testing data size: 10000\n",
      "Shape of image: (784,)\n",
      "Shape of label: (10,)\n"
     ]
    }
   ],
   "source": [
    "print(\"training data size: {}\".format(mnist.train.num_examples))\n",
    "print(\"validation data size: {}\".format(mnist.validation.num_examples))\n",
    "print(\"testing data size: {}\".format(mnist.test.num_examples))\n",
    "\n",
    "print(\"Shape of image: {}\".format(mnist.train.images[0].shape))\n",
    "print(\"Shape of label: {}\".format(mnist.train.labels[0].shape))\n"
   ]
  },
  {
   "cell_type": "code",
   "execution_count": 38,
   "metadata": {},
   "outputs": [
    {
     "name": "stdout",
     "output_type": "stream",
     "text": [
      "Epoch:  0\n",
      "Accuracy:  0.8791\n",
      "Model Execution Complete\n",
      "Epoch:  20\n",
      "Accuracy:  0.9191\n",
      "Model Execution Complete\n",
      "Epoch:  40\n",
      "Accuracy:  0.921\n",
      "Model Execution Complete\n",
      "Epoch:  60\n",
      "Accuracy:  0.9224\n",
      "Model Execution Complete\n",
      "Epoch:  80\n",
      "Accuracy:  0.9235\n",
      "Model Execution Complete\n",
      "Epoch:  100\n",
      "Accuracy:  0.9233\n",
      "Model Execution Complete\n",
      "Epoch:  120\n",
      "Accuracy:  0.9236\n",
      "Model Execution Complete\n",
      "Epoch:  140\n",
      "Accuracy:  0.923\n",
      "Model Execution Complete\n",
      "Epoch:  160\n",
      "Accuracy:  0.9239\n",
      "Model Execution Complete\n",
      "Epoch:  180\n",
      "Accuracy:  0.9251\n",
      "Model Execution Complete\n",
      "Epoch:  200\n",
      "Accuracy:  0.9248\n",
      "Model Execution Complete\n"
     ]
    }
   ],
   "source": [
    "# single layer tryout \n",
    "# initializing parameters for the model\n",
    "batch = 100\n",
    "learning_rate = 0.01\n",
    "training_epochs = 200+1\n",
    " \n",
    "# creating placeholders\n",
    "x = tf.placeholder(tf.float32, shape=[None, 784])\n",
    "y_ = tf.placeholder(tf.float32, shape=[None, 10])\n",
    " \n",
    "# creating variables\n",
    "W = tf.Variable(tf.zeros([784, 10]))\n",
    "b = tf.Variable(tf.zeros([10]))\n",
    " \n",
    "# initializing the model\n",
    "y = tf.nn.softmax(tf.matmul(x,W) + b)\n",
    " \n",
    "# Defining Cost Function\n",
    "cross_entropy = tf.reduce_mean(-tf.reduce_sum(y_ * tf.log(y), reduction_indices=[1]))\n",
    " \n",
    "# Determining the accuracy of parameters\n",
    "correct_prediction = tf.equal(tf.argmax(y,1), tf.argmax(y_,1))\n",
    "accuracy = tf.reduce_mean(tf.cast(correct_prediction, tf.float32))\n",
    " \n",
    "# Implementing Gradient Descent Algorithm\n",
    "train_op = tf.train.GradientDescentOptimizer(learning_rate).minimize(cross_entropy)\n",
    " \n",
    "# Initializing the session\n",
    "with tf.Session() as sess:\n",
    "    sess.run(tf.initialize_all_variables())\n",
    "\n",
    "# Creating batches of data for epochs\n",
    "    for epoch in range(training_epochs):\n",
    "        batch_count = int(mnist.train.num_examples / batch)\n",
    "        for i in range(batch_count):\n",
    "            batch_x, batch_y = mnist.train.next_batch(batch)\n",
    "            sess.run([train_op], feed_dict={x: batch_x, y_: batch_y})\n",
    "\n",
    "    # Print Accuracy of the model\n",
    "        if epoch % 20 == 0:\n",
    "            print(\"Epoch: \", epoch) \n",
    "            print(\"Accuracy: \", accuracy.eval(feed_dict={x: mnist.test.images, y_: mnist.test.labels})) \n",
    "            print(\"Model Execution Complete\") "
   ]
  },
  {
   "cell_type": "code",
   "execution_count": 47,
   "metadata": {},
   "outputs": [
    {
     "name": "stdout",
     "output_type": "stream",
     "text": [
      "Epoch:  0\n",
      "Accuracy:  0.9059\n",
      "Model Execution Complete\n",
      "Epoch:  5\n",
      "Accuracy:  0.9523\n",
      "Model Execution Complete\n",
      "Epoch:  10\n",
      "Accuracy:  0.9672\n",
      "Model Execution Complete\n",
      "Epoch:  15\n",
      "Accuracy:  0.9741\n",
      "Model Execution Complete\n",
      "Epoch:  20\n",
      "Accuracy:  0.9785\n",
      "Model Execution Complete\n"
     ]
    }
   ],
   "source": [
    "# two layers tryout\n",
    "# initializing parameters for the model\n",
    "batch = 100\n",
    "learning_rate = 0.001 * (0.95**epoch)\n",
    "training_epochs = 20+1\n",
    " \n",
    "# creating placeholders\n",
    "x = tf.placeholder(tf.float32, shape=[None, 784])\n",
    "y_ = tf.placeholder(tf.float32, shape=[None, 10])\n",
    " \n",
    "# creating variables\n",
    "W1 = tf.Variable(tf.truncated_normal([784, 300],stddev=0.1))\n",
    "b1 = tf.Variable(tf.zeros([300]))\n",
    "W2 = tf.Variable(tf.truncated_normal([300, 200],stddev=0.1))\n",
    "b2 = tf.Variable(tf.zeros([200]))\n",
    "W3 = tf.Variable(tf.truncated_normal([200, 10],stddev=0.1))\n",
    "b3 = tf.Variable(tf.zeros([10]))\n",
    "# initializing the model\n",
    "L1 = tf.sigmoid(tf.matmul(x, W1) + b1)\n",
    "L2 = tf.sigmoid(tf.matmul(L1, W2) + b2)\n",
    "y = tf.nn.softmax(tf.matmul(L2, W3) + b3)\n",
    " \n",
    "# Defining Cost Function\n",
    "cross_entropy = tf.reduce_mean(-tf.reduce_sum(y_ * tf.log(y), reduction_indices=[1]))\n",
    " \n",
    "# Determining the accuracy of parameters\n",
    "correct_prediction = tf.equal(tf.argmax(y,1), tf.argmax(y_,1))\n",
    "accuracy = tf.reduce_mean(tf.cast(correct_prediction, tf.float32))\n",
    " \n",
    "# Implementing AdamOptimizer Algorithm\n",
    "train_op = tf.train.AdamOptimizer(learning_rate).minimize(cross_entropy)\n",
    " \n",
    "# Initializing the session\n",
    "with tf.Session() as sess:\n",
    "    sess.run(tf.initialize_all_variables())\n",
    "\n",
    "# Creating batches of data for epochs\n",
    "    for epoch in range(training_epochs):\n",
    "        batch_count = int(mnist.train.num_examples / batch)\n",
    "        for i in range(batch_count):\n",
    "            batch_x, batch_y = mnist.train.next_batch(batch)\n",
    "            sess.run([train_op], feed_dict={x: batch_x, y_: batch_y})\n",
    "\n",
    "    # Print Accuracy of the model\n",
    "        if epoch % 5 == 0:\n",
    "            print(\"Epoch: \", epoch) \n",
    "            print(\"Accuracy: \", accuracy.eval(feed_dict={x: mnist.test.images, y_: mnist.test.labels})) \n",
    "            print(\"Model Execution Complete\") "
   ]
  },
  {
   "cell_type": "code",
   "execution_count": null,
   "metadata": {},
   "outputs": [],
   "source": []
  }
 ],
 "metadata": {
  "kernelspec": {
   "display_name": "Python 3",
   "language": "python",
   "name": "python3"
  },
  "language_info": {
   "codemirror_mode": {
    "name": "ipython",
    "version": 3
   },
   "file_extension": ".py",
   "mimetype": "text/x-python",
   "name": "python",
   "nbconvert_exporter": "python",
   "pygments_lexer": "ipython3",
   "version": "3.6.6"
  }
 },
 "nbformat": 4,
 "nbformat_minor": 2
}
