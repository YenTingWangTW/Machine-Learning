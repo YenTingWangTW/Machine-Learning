{
 "cells": [
  {
   "cell_type": "code",
   "execution_count": 1,
   "metadata": {
    "scrolled": true
   },
   "outputs": [
    {
     "name": "stdout",
     "output_type": "stream",
     "text": [
      "(52399, 8)\n",
      "Index(['PERIOD', 'GAME_CLOCK', 'SHOT_CLOCK', 'DRIBBLES', 'TOUCH_TIME',\n",
      "       'SHOT_DIST', 'PTS_TYPE', 'CLOSE_DEF_DIST'],\n",
      "      dtype='object')\n",
      "Index(['FGM'], dtype='object')\n",
      "   PERIOD  GAME_CLOCK  SHOT_CLOCK  DRIBBLES  TOUCH_TIME  SHOT_DIST  PTS_TYPE  \\\n",
      "0       2         557        15.5         0         0.7        2.1         2   \n",
      "1       2         151        20.1         0         0.8        2.7         2   \n",
      "2       3         448        14.2         0         0.8        5.1         2   \n",
      "3       1         279        10.6         0         0.6        1.9         2   \n",
      "\n",
      "   CLOSE_DEF_DIST  \n",
      "0             0.0  \n",
      "1             3.4  \n",
      "2             0.1  \n",
      "3             2.7  \n",
      "   FGM\n",
      "0    1\n",
      "1    1\n",
      "2    0\n",
      "3    1\n"
     ]
    }
   ],
   "source": [
    "import pandas as pd\n",
    "import numpy as np\n",
    "X_train_df = pd.read_csv('./data/nba/X_train.csv')\n",
    "y_train_df = pd.read_csv('./data/nba/y_train.csv')\n",
    "\n",
    "X_test_df = pd.read_csv('./data/nba/X_test.csv')\n",
    "print(X_train_df.shape)\n",
    "print(X_train_df.columns)\n",
    "print(y_train_df.columns)\n",
    "print(X_train_df[:4])\n",
    "print(y_train_df[:4])"
   ]
  },
  {
   "cell_type": "code",
   "execution_count": 2,
   "metadata": {
    "collapsed": true
   },
   "outputs": [],
   "source": [
    "def pd2np(df):\n",
    "    return df.values"
   ]
  },
  {
   "cell_type": "code",
   "execution_count": 10,
   "metadata": {
    "collapsed": true
   },
   "outputs": [],
   "source": [
    "X_train = pd2np(X_train_df)\n",
    "y_train_ = pd2np(y_train_df)\n",
    "\n",
    "X_test = pd2np(X_test_df)"
   ]
  },
  {
   "cell_type": "code",
   "execution_count": 4,
   "metadata": {
    "scrolled": false
   },
   "outputs": [
    {
     "name": "stdout",
     "output_type": "stream",
     "text": [
      "<class 'numpy.ndarray'>\n",
      "(52399, 8)\n"
     ]
    }
   ],
   "source": [
    "print(type(X_train))\n",
    "print(X_train.shape)\n"
   ]
  },
  {
   "cell_type": "code",
   "execution_count": 5,
   "metadata": {
    "collapsed": true
   },
   "outputs": [],
   "source": [
    "from sklearn.preprocessing import StandardScaler\n",
    "sc_x = StandardScaler()\n",
    "X_std = sc_x.fit_transform(X_train)"
   ]
  },
  {
   "cell_type": "code",
   "execution_count": 6,
   "metadata": {
    "scrolled": true
   },
   "outputs": [
    {
     "data": {
      "text/plain": [
       "array([[-0.41212853,  0.99061862,  0.59309458, -0.57819043, -0.66369214,\n",
       "        -1.28746269, -0.59913748, -1.50184536],\n",
       "       [-0.41212853, -0.96794898,  1.3383832 , -0.57819043, -0.6314213 ,\n",
       "        -1.21987504, -0.59913748, -0.26180313],\n",
       "       [ 0.46765322,  0.46479629,  0.38246954, -0.57819043, -0.6314213 ,\n",
       "        -0.94952444, -0.59913748, -1.46537353],\n",
       "       [-1.29191029, -0.35046954, -0.20079981, -0.57819043, -0.69596299,\n",
       "        -1.30999191, -0.59913748, -0.51710595]])"
      ]
     },
     "execution_count": 6,
     "metadata": {},
     "output_type": "execute_result"
    }
   ],
   "source": [
    "X_std[:4]"
   ]
  },
  {
   "cell_type": "code",
   "execution_count": 11,
   "metadata": {
    "collapsed": true,
    "scrolled": true
   },
   "outputs": [],
   "source": [
    "from sklearn.model_selection import train_test_split\n",
    "X_train, X_valid, y_train, y_valid = train_test_split(X_std, y_train_, test_size=0.1, random_state=0)"
   ]
  },
  {
   "cell_type": "code",
   "execution_count": 8,
   "metadata": {
    "scrolled": false
   },
   "outputs": [
    {
     "name": "stdout",
     "output_type": "stream",
     "text": [
      "C: 0.001\n",
      "Coefficient of each feature: [[ 0.          0.          0.05875084  0.         -0.02496459 -0.33936683\n",
      "   0.          0.08441235]]\n",
      "Training accuracy: 0.5944146398354503\n",
      "Test accuracy: 0.6022900763358778\n",
      "\n",
      "C: 0.1\n",
      "Coefficient of each feature: [[ 0.0043434   0.00295913  0.10186569  0.02754019 -0.1219533  -0.56198628\n",
      "   0.03192     0.27509883]]\n",
      "Training accuracy: 0.6061409275005831\n",
      "Test accuracy: 0.6154580152671756\n",
      "\n",
      "C: 1\n",
      "Coefficient of each feature: [[ 0.0050445   0.00411555  0.10157376  0.03959949 -0.13391239 -0.56618519\n",
      "   0.0349594   0.27696069]]\n",
      "Training accuracy: 0.606183337220891\n",
      "Test accuracy: 0.6150763358778626\n",
      "\n",
      "C: 10\n",
      "Coefficient of each feature: [[ 0.00511533  0.00423079  0.10154622  0.04079946 -0.13506433 -0.56660679\n",
      "   0.0352706   0.27714714]]\n",
      "Training accuracy: 0.606183337220891\n",
      "Test accuracy: 0.6150763358778626\n",
      "\n"
     ]
    }
   ],
   "source": [
    "from sklearn.linear_model import LogisticRegression\n",
    "\n",
    "C = [.001, .1, 1, 10]\n",
    "\n",
    "for c in C:\n",
    "    log = LogisticRegression(penalty='l1', C=c)\n",
    "    log.fit(X_train, y_train.ravel())\n",
    "    print('C:', c)\n",
    "    print('Coefficient of each feature:', log.coef_)\n",
    "    print('Training accuracy:', log.score(X_train, y_train.ravel()))\n",
    "    print('Test accuracy:', log.score(X_valid, y_valid.ravel()))\n",
    "    print('')"
   ]
  },
  {
   "cell_type": "code",
   "execution_count": 9,
   "metadata": {
    "scrolled": true
   },
   "outputs": [
    {
     "name": "stdout",
     "output_type": "stream",
     "text": [
      "\n",
      "[Degree = 1]\n",
      "Training accuracy: 0.606183337220891\n",
      "Test accuracy: 0.6154580152671756\n",
      "\n",
      "[Degree = 2]\n",
      "Training accuracy: 0.6149409444644712\n",
      "Test accuracy: 0.6213740458015267\n",
      "\n",
      "[Degree = 3]\n",
      "Training accuracy: 0.6197968574397252\n",
      "Test accuracy: 0.6223282442748092\n"
     ]
    }
   ],
   "source": [
    "from sklearn.preprocessing import PolynomialFeatures\n",
    "\n",
    "for d in range(1, 4):\n",
    "    poly = PolynomialFeatures(degree=d)\n",
    "    X_train_poly = poly.fit_transform(X_train)\n",
    "    X_valid_poly = poly.fit_transform(X_valid)\n",
    "\n",
    "    log = LogisticRegression(penalty='l1', C= 0.1)\n",
    "    log.fit(X_train_poly, y_train.ravel())\n",
    "    \n",
    "    y_train_pred = log.predict(X_train_poly)\n",
    "    y_valid_pred = log.predict(X_valid_poly)\n",
    "    \n",
    "    print('\\n[Degree = %d]' % d)\n",
    "    print('Training accuracy:', log.score(X_train_poly, y_train.ravel()))\n",
    "    print('Test accuracy:', log.score(X_valid_poly, y_valid.ravel()))"
   ]
  },
  {
   "cell_type": "code",
   "execution_count": 24,
   "metadata": {
    "collapsed": true
   },
   "outputs": [],
   "source": [
    "def accuracy(X, y):\n",
    "    log = LogisticRegression(penalty='l1', C= 0.1)\n",
    "    log.fit(X_poly, y_train_.ravel())\n",
    "    return log.score(X,y)"
   ]
  },
  {
   "cell_type": "code",
   "execution_count": 16,
   "metadata": {},
   "outputs": [
    {
     "name": "stdout",
     "output_type": "stream",
     "text": [
      "Accuracy (forest): 0.600763\n"
     ]
    }
   ],
   "source": [
    "from sklearn.ensemble import RandomForestClassifier\n",
    "from sklearn.metrics import accuracy_score\n",
    "\n",
    "forest = RandomForestClassifier(criterion='entropy',\n",
    "                                n_estimators=200, \n",
    "                                random_state=1,\n",
    "                                n_jobs=2)\n",
    "forest.fit(X_train, y_train.ravel())\n",
    "\n",
    "y_pred = forest.predict(X_valid)\n",
    "print('Accuracy (forest): %f' % accuracy_score(y_valid, y_pred))"
   ]
  },
  {
   "cell_type": "code",
   "execution_count": 25,
   "metadata": {},
   "outputs": [
    {
     "name": "stdout",
     "output_type": "stream",
     "text": [
      " 1) GAME_CLOCK                     0.201862\n",
      " 2) SHOT_DIST                      0.198820\n",
      " 3) SHOT_CLOCK                     0.179495\n",
      " 4) CLOSE_DEF_DIST                 0.171474\n",
      " 5) TOUCH_TIME                     0.140442\n",
      " 6) PERIOD                         0.051902\n",
      " 7) DRIBBLES                       0.048792\n",
      " 8) PTS_TYPE                       0.007212\n"
     ]
    },
    {
     "data": {
      "image/png": "[encoded data removed]",
      "text/plain": [
       "<Figure size 432x288 with 1 Axes>"
      ]
     },
     "metadata": {},
     "output_type": "display_data"
    }
   ],
   "source": [
    "# inline plotting instead of popping out\n",
    "%matplotlib inline\n",
    "\n",
    "import numpy as np\n",
    "import matplotlib.pyplot as plt\n",
    "\n",
    "importances = forest.feature_importances_\n",
    "# get sort indices in descending order\n",
    "indices = np.argsort(importances)[::-1]\n",
    "\n",
    "for f in range(X_train.shape[1]):\n",
    "    print(\"%2d) %-*s %f\" % (f + 1, 30, \n",
    "                            X_train_df.columns.values[indices[f]], \n",
    "                            importances[indices[f]]))\n",
    "\n",
    "plt.figure()\n",
    "plt.title('Feature Importances')\n",
    "plt.bar(range(X_train.shape[1]),\n",
    "        importances[indices],\n",
    "        align='center',\n",
    "        alpha=0.5)\n",
    "\n",
    "plt.xticks(range(X_train.shape[1]), \n",
    "           X_train_df.columns.values[indices], rotation=90)\n",
    "plt.tight_layout()\n",
    "plt.savefig('../output/fig-forest-feature-importances2.png', dpi=300)\n",
    "plt.show()"
   ]
  },
  {
   "cell_type": "code",
   "execution_count": 15,
   "metadata": {},
   "outputs": [
    {
     "name": "stdout",
     "output_type": "stream",
     "text": [
      "\n",
      "[Degree = 3]\n",
      "[0 0 0 ... 0 0 0]\n"
     ]
    }
   ],
   "source": [
    "poly = PolynomialFeatures(degree=3)\n",
    "X_poly = poly.fit_transform(X_std)\n",
    "log = LogisticRegression(penalty='l1', C= 0.1)\n",
    "log.fit(X_poly, y_train_.ravel())\n",
    "\n",
    "X_test_std = sc_x.fit_transform(X_test)\n",
    "X_test_poly = poly.fit_transform(X_test_std)\n",
    "\n",
    "y_test_pred = log.predict(X_test_poly)\n",
    "\n",
    "print('\\n[Degree = %d]' % d)\n",
    "print(y_test_pred)"
   ]
  }
 ],
 "metadata": {
  "kernelspec": {
   "display_name": "Python 3",
   "language": "python",
   "name": "python3"
  },
  "language_info": {
   "codemirror_mode": {
    "name": "ipython",
    "version": 3
   },
   "file_extension": ".py",
   "mimetype": "text/x-python",
   "name": "python",
   "nbconvert_exporter": "python",
   "pygments_lexer": "ipython3",
   "version": "3.6.6"
  }
 },
 "nbformat": 4,
 "nbformat_minor": 2
}
